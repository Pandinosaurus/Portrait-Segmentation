{
  "nbformat": 4,
  "nbformat_minor": 0,
  "metadata": {
    "colab": {
      "name": "mnv3seg_tfsource.ipynb",
      "provenance": [],
      "collapsed_sections": [],
      "machine_shape": "hm"
    },
    "kernelspec": {
      "name": "python3",
      "display_name": "Python 3"
    },
    "accelerator": "GPU"
  },
  "cells": [
    {
      "cell_type": "markdown",
      "metadata": {
        "id": "UlAnexM4kQJ-"
      },
      "source": [
        "**1. Setup GPU and G-Drive**"
      ]
    },
    {
      "cell_type": "markdown",
      "metadata": {
        "id": "PH7ofbDnLA86"
      },
      "source": [
        "Choose a **GPU** runtime and check the device."
      ]
    },
    {
      "cell_type": "code",
      "metadata": {
        "id": "5L__CaBt_U-B"
      },
      "source": [
        "!nvidia-smi"
      ],
      "execution_count": null,
      "outputs": []
    },
    {
      "cell_type": "markdown",
      "metadata": {
        "id": "WirYBEmaMq09"
      },
      "source": [
        "Mount your **google drive**."
      ]
    },
    {
      "cell_type": "code",
      "metadata": {
        "id": "Fu1RDG2kMpik"
      },
      "source": [
        "from google.colab import drive\n",
        "drive.mount('/content/drive')"
      ],
      "execution_count": null,
      "outputs": []
    },
    {
      "cell_type": "markdown",
      "metadata": {
        "id": "eWegl-7zuNBl"
      },
      "source": [
        "**2. Build Tensorflow From Source**"
      ]
    },
    {
      "cell_type": "markdown",
      "metadata": {
        "id": "Go_3NQl0F2Sz"
      },
      "source": [
        "Install bazel to build tensorflow from source."
      ]
    },
    {
      "cell_type": "code",
      "metadata": {
        "id": "USWQL5sGuR8j"
      },
      "source": [
        "!sudo apt install curl gnupg\n",
        "!curl -fsSL https://bazel.build/bazel-release.pub.gpg | gpg --dearmor > bazel.gpg\n",
        "!sudo mv bazel.gpg /etc/apt/trusted.gpg.d/\n",
        "!echo \"deb [arch=amd64] https://storage.googleapis.com/bazel-apt stable jdk1.8\" | sudo tee /etc/apt/sources.list.d/bazel.list\n",
        "!sudo apt update && sudo apt install bazel\n",
        "!sudo apt update && sudo apt install bazel-3.1.0"
      ],
      "execution_count": null,
      "outputs": []
    },
    {
      "cell_type": "markdown",
      "metadata": {
        "id": "nhkQhQn8GHII"
      },
      "source": [
        "Install the tensorflow pip package **dependencies**."
      ]
    },
    {
      "cell_type": "code",
      "metadata": {
        "id": "hnbrDEF4unwE"
      },
      "source": [
        "!sudo apt install python3-dev python3-pip\n",
        "!pip install -U --user pip numpy wheel\n",
        "!pip install -U --user keras_preprocessing --no-deps"
      ],
      "execution_count": null,
      "outputs": []
    },
    {
      "cell_type": "markdown",
      "metadata": {
        "id": "X4xh7wxpHJnP"
      },
      "source": [
        "**Note:** Restart the runtime in order to use newly installed versions."
      ]
    },
    {
      "cell_type": "markdown",
      "metadata": {
        "id": "mGZWRC_8GO1w"
      },
      "source": [
        "Download the latest tensorflow **source** code"
      ]
    },
    {
      "cell_type": "code",
      "metadata": {
        "id": "qOUELsjyvSjV"
      },
      "source": [
        "!git clone https://github.com/tensorflow/tensorflow.git\n",
        "%cd tensorflow"
      ],
      "execution_count": null,
      "outputs": []
    },
    {
      "cell_type": "markdown",
      "metadata": {
        "id": "tCAWFrHeGUon"
      },
      "source": [
        "Configure your system build by running the ***./configure*** at the root of your TensorFlow source tree."
      ]
    },
    {
      "cell_type": "code",
      "metadata": {
        "id": "RQgzaL34vihi"
      },
      "source": [
        "!./configure"
      ],
      "execution_count": null,
      "outputs": []
    },
    {
      "cell_type": "markdown",
      "metadata": {
        "id": "05UOtb6AGWPi"
      },
      "source": [
        "**Note:** For GPU support, set cuda=Y and specify the CUDA compute capabilities you want to build with, during configuration."
      ]
    },
    {
      "cell_type": "markdown",
      "metadata": {
        "id": "j1nJKJ2eIxJk"
      },
      "source": [
        "Build and **install** the package from the master branch."
      ]
    },
    {
      "cell_type": "code",
      "metadata": {
        "id": "yMZ-6M6xwMU0"
      },
      "source": [
        "!bazel build --config=cuda //tensorflow/tools/pip_package:build_pip_package\n",
        "!./bazel-bin/tensorflow/tools/pip_package/build_pip_package --nightly_flag /tmp/tensorflow_pkg\n",
        "!pip install /tmp/tensorflow_pkg/tf_nightly-2.5.0-cp36-cp36m-linux_x86_64.whl"
      ],
      "execution_count": null,
      "outputs": []
    },
    {
      "cell_type": "markdown",
      "metadata": {
        "id": "2rpUZmQjLwup"
      },
      "source": [
        "**Note:** The build process can take **several hours** depending on the build and hardware configurations."
      ]
    },
    {
      "cell_type": "markdown",
      "metadata": {
        "id": "VOdoSLCaNUsw"
      },
      "source": [
        "Once the build is complete, you can save the '**.whl**' file in your **google drive** and install the it directly from your drive, at a later time without having to rebuild the same."
      ]
    },
    {
      "cell_type": "code",
      "metadata": {
        "id": "yb6uPHUuixz8"
      },
      "source": [
        "!cp /tmp/tensorflow_pkg/tf_nightly-2.5.0-cp36-cp36m-linux_x86_64.whl /content/drive/MyDrive/tf_nigltly_wheel/tf_nightly-2.5.0-cp36-cp36m-linux_x86_64.whl\n",
        "!pip install /content/drive/MyDrive/tf_nigltly_wheel/tf_nightly-2.5.0-cp36-cp36m-linux_x86_64.whl"
      ],
      "execution_count": null,
      "outputs": []
    },
    {
      "cell_type": "markdown",
      "metadata": {
        "id": "bHn2k31NB7VX"
      },
      "source": [
        "**Note:** Here we need to install the latest **nigtly version** since the the **mobilenetv3** architecture is only available in this version."
      ]
    },
    {
      "cell_type": "markdown",
      "metadata": {
        "id": "aPaqrrTtNvSE"
      },
      "source": [
        "Restart the kernel and check the tensorflow version. "
      ]
    },
    {
      "cell_type": "code",
      "metadata": {
        "id": "VXvXUP8xeEih"
      },
      "source": [
        "import tensorflow as tf\n",
        "tf.__version__"
      ],
      "execution_count": null,
      "outputs": []
    },
    {
      "cell_type": "markdown",
      "metadata": {
        "id": "1Swu0Yhy8lbz"
      },
      "source": [
        "**3. Prepare Dataset**"
      ]
    },
    {
      "cell_type": "markdown",
      "metadata": {
        "id": "yxR8NdhbEcGh"
      },
      "source": [
        "Load and extract the **aisegment** dataset images into local drive."
      ]
    },
    {
      "cell_type": "code",
      "metadata": {
        "id": "r7BnL0zLvg7O"
      },
      "source": [
        "!cp /content/drive/MyDrive/AISEGDS/AISEGDS.zip  .\n",
        "!unzip AISEGDS.zip"
      ],
      "execution_count": null,
      "outputs": []
    },
    {
      "cell_type": "markdown",
      "metadata": {
        "id": "YmZnqybY_XI4"
      },
      "source": [
        "**4. Imports**"
      ]
    },
    {
      "cell_type": "code",
      "metadata": {
        "id": "_IJh1r5fX9Cw"
      },
      "source": [
        "from tensorflow.keras.preprocessing.image import ImageDataGenerator\n",
        "from tensorflow.keras.callbacks import TensorBoard, ModelCheckpoint, Callback, ReduceLROnPlateau\n",
        "from tensorflow.keras.layers import *\n",
        "from tensorflow.keras.models import *\n",
        "from tensorflow.keras.utils import plot_model\n",
        "from tensorflow.keras.optimizers import SGD, Adam\n",
        "from tensorflow.keras.regularizers import l2\n",
        "import matplotlib.pyplot as plt\n",
        "import tensorflow as tf\n",
        "import os, cv2, imageio\n",
        "import numpy as np\n",
        "import matplotlib.pyplot as plt\n",
        "from PIL import Image, ImageEnhance\n",
        "from IPython.display import clear_output\n",
        "from sklearn.utils import shuffle\n",
        "from sklearn.model_selection import train_test_split"
      ],
      "execution_count": 3,
      "outputs": []
    },
    {
      "cell_type": "markdown",
      "metadata": {
        "id": "VMu8HbYKE1Nd"
      },
      "source": [
        "**5. Model Architecture**"
      ]
    },
    {
      "cell_type": "markdown",
      "metadata": {
        "id": "W3hoP10tubTG"
      },
      "source": [
        "In the **decoder** module we use **transition blocks** along with upsampling layers , similar to the decode modules in the portrait-net architecture. There are two branches in this block: one branch contains two **depthwise separable convolutions** and  the other contains a single **1×1 convolution** to adjust the number of channels."
      ]
    },
    {
      "cell_type": "code",
      "metadata": {
        "id": "kuINr5yzRTHw"
      },
      "source": [
        "def bottleneck(x, nfilters):\n",
        "\n",
        "  \n",
        "  y = DepthwiseConv2D(kernel_size=3, depth_multiplier=1, padding='same')(x)\n",
        "  y = BatchNormalization()(y)\n",
        "  y = Activation(\"relu\")(y)\n",
        " \n",
        "  y = Conv2D(kernel_size=1, filters=nfilters, padding ='same')(y)\n",
        "  y = BatchNormalization()(y)\n",
        "  y = Activation(\"relu\")(y)\n",
        "\n",
        "\n",
        "  y = DepthwiseConv2D(kernel_size=3, depth_multiplier=1, padding='same')(y)\n",
        "  y = BatchNormalization()(y)\n",
        "  y = Activation(\"relu\")(y)\n",
        "\n",
        "  y = Conv2D(kernel_size=1, filters=nfilters, padding ='same')(y)\n",
        "  y = BatchNormalization()(y)\n",
        "  \n",
        "  z = Conv2D(kernel_size=1, filters=nfilters, padding ='same')(x)\n",
        "  z = BatchNormalization()(z)\n",
        "\n",
        "  z = Add()([y, z])\n",
        "  z = Activation(\"relu\")(z)\n",
        "\n",
        "  return z"
      ],
      "execution_count": 5,
      "outputs": []
    },
    {
      "cell_type": "markdown",
      "metadata": {
        "id": "TVyYlx8D-wTW"
      },
      "source": [
        "Here we use minimalistic version of **mobilnetev3** as the encoder part of the network. Use the [mobilenet_v3.py ](https://github.com/tensorflow/tensorflow/blob/master/tensorflow/python/keras/applications/mobilenet_v3.py)file to load the architecture and weights for the pretrained model. For the decoder part, we use an upsampling block with **bilinear resize** along with the aforementioned transition blocks. In case of **skip connections** between encoder anmd decoder, we use **element-wise addition** instead of concatenation for faster inference speed."
      ]
    },
    {
      "cell_type": "code",
      "metadata": {
        "id": "rV-KxeI1Z145"
      },
      "source": [
        "PRETRAINED='/content/drive/MyDrive/mnv3seg/ckpt/mnv3seg-10-0.03.hdf5'#'/content/drive/MyDrive/mnv3seg/ckpt/mnv3seg-03-0.14.hdf5'\n",
        "\n",
        "#  Model architecture: mnv3_unet\n",
        "\n",
        "from mobilenet_v3 import * # Dont forget to remove rescale layer\n",
        "\n",
        "def mnv3_unet(finetune=False, pretrained=False, alpha=1):\n",
        "\n",
        "    # Load pretrained model (if any)\n",
        "    if (pretrained):\n",
        "       model=load_model(PRETRAINED)\n",
        "       for layer in model.layers:\n",
        "        layer.trainable = True  # Unfreeze all layers\n",
        "       print(\"Loaded pretrained model ...\\n\")\n",
        "       return model\n",
        "\n",
        "    # Encoder\n",
        "    mnv3 = MobileNetV3Small(\n",
        "    input_shape=(256,256,3), alpha=1.0, minimalistic=True, include_top=False,\n",
        "    weights='imagenet')\n",
        "\n",
        "    if (finetune):\n",
        "      for layer in mnv3.layers[:-3]:\n",
        "        layer.trainable = False\n",
        "          \n",
        "    # Decoder\n",
        "    x = mnv3.layers[-4].output\n",
        "\n",
        "    x = bottleneck(x, 288)\n",
        "    #x = Conv2DTranspose(filters=288, kernel_size=3, strides=2, padding = 'same', use_bias=False)(x)\n",
        "    x = UpSampling2D( size=(2, 2), interpolation='bilinear')(x)\n",
        "    x = Add()([x, mnv3.layers[74].output])#concatenate([x, mnv3.layers[71].output], axis = 3) # 75 l\n",
        "    \n",
        "    x = bottleneck(x, 96)\n",
        "    #x = Conv2DTranspose(filters=96, kernel_size=3, strides=2, padding = 'same', use_bias=False)(x)\n",
        "    x = UpSampling2D( size=(2, 2), interpolation='bilinear')(x)\n",
        "    x = Add()([x, mnv3.layers[30].output]) # 32\n",
        "                \n",
        "    x = bottleneck(x, 72)\n",
        "    #x = Conv2DTranspose(filters=72, kernel_size=3, strides=2, padding = 'same', use_bias=False)(x)\n",
        "    x = UpSampling2D( size=(2, 2), interpolation='bilinear')(x)\n",
        "    x = Add()([x, mnv3.layers[12].output]) # 13\n",
        "    \n",
        "    x = bottleneck(x, 16)\n",
        "    #x = Conv2DTranspose(filters=72, kernel_size=3, strides=2, padding = 'same', use_bias=False)(x)\n",
        "    x = UpSampling2D( size=(2, 2), interpolation='bilinear')(x)\n",
        "                \n",
        "    #x = Conv2DTranspose(filters=8, kernel_size=3, strides=2, padding='same', use_bias=False)(x)\n",
        "    x = UpSampling2D( size=(2, 2), interpolation='bilinear')(x)\n",
        "    x = Conv2D(2, (1,1), padding='same')(x)\n",
        "    \n",
        "\n",
        "    model = Model(inputs=mnv3.input, outputs=x)\n",
        "    \n",
        "    model.compile(optimizer=Adam(lr=1e-4),\n",
        "              loss=tf.keras.losses.SparseCategoricalCrossentropy(from_logits=True),\n",
        "              metrics=['accuracy']) # Ensure you have sparse labels\n",
        "    \n",
        "    return model\n",
        "\n",
        "model=mnv3_unet(finetune=True, pretrained=False, alpha=1)\n",
        "\n",
        "# Model summary\n",
        "model.summary()\n",
        "\n",
        "# Layer specifications\n",
        "for i, layer in enumerate(model.layers):\n",
        "    print(i, layer.output.name, layer.output.shape, layer.trainable)\n"
      ],
      "execution_count": null,
      "outputs": []
    },
    {
      "cell_type": "markdown",
      "metadata": {
        "id": "0L4mW7gc0zrw"
      },
      "source": [
        "**Note:** The official tf.keras mobilenetv3 architecture contains a '**Rescale**' layer in the network architecture for normalizing input images. However, it was observed that this layer is neither supported by tflite **GPU** delegate nor by tf.keras **quantization** API's. Therefore we remove this layer and directly normalize the images in the dataloader module, before feeding it to the network."
      ]
    },
    {
      "cell_type": "markdown",
      "metadata": {
        "id": "zWNtXMgOEsgy"
      },
      "source": [
        "**6. Data Loader And Augmentations**"
      ]
    },
    {
      "cell_type": "markdown",
      "metadata": {
        "id": "GJIsouRIzJmc"
      },
      "source": [
        "Use the custom data-loader to perform augmentaion on-the-fly and feed the network with batch of images. Here we use the augmentaion like **brightness, saturation, contrast, cropping, flipping** etc for training the model. The mask images should be **binary** with pixel value **0** representing **background**, and stored in **png** format."
      ]
    },
    {
      "cell_type": "code",
      "metadata": {
        "id": "y68PsEfL39K9"
      },
      "source": [
        "import tensorflow as tf\n",
        "import random\n",
        "\n",
        "class DataLoader(object):\n",
        "    \"\"\"A TensorFlow Dataset API based loader for semantic segmentation problems.\"\"\"\n",
        "\n",
        "    def __init__(self, image_paths, mask_paths, image_size, channels=[3, 3], crop_percent=None, palette=None, seed=None):\n",
        "        \"\"\"\n",
        "        Initializes the data loader object\n",
        "        Args:\n",
        "            image_paths: List of paths of train images.\n",
        "            mask_paths: List of paths of train masks (segmentation masks)\n",
        "            image_size: Tuple of (Height, Width), the final height \n",
        "                        of the loaded images.\n",
        "            channels: List of ints, first element is number of channels in images,\n",
        "                      second is the number of channels in the mask image (needed to\n",
        "                      correctly read the images into tensorflow.)\n",
        "            crop_percent: Float in the range 0-1, defining percentage of image \n",
        "                          to randomly crop.\n",
        "            palette: A list of RGB pixel values in the mask. If specified, the mask\n",
        "                     will be one hot encoded along the channel dimension.\n",
        "            seed: An int, if not specified, chosen randomly. Used as the seed for \n",
        "                  the RNG in the data pipeline.\n",
        "        \"\"\"\n",
        "        self.image_paths = image_paths\n",
        "        self.mask_paths = mask_paths\n",
        "        self.palette = palette\n",
        "        self.image_size = image_size\n",
        "        if crop_percent is not None:\n",
        "            if 0.0 < crop_percent <= 1.0:\n",
        "                self.crop_percent = tf.constant(crop_percent, tf.float32)\n",
        "            elif 0 < crop_percent <= 100:\n",
        "                self.crop_percent = tf.constant(crop_percent / 100., tf.float32)\n",
        "            else:\n",
        "                raise ValueError(\"Invalid value entered for crop size. Please use an \\\n",
        "                                  integer between 0 and 100, or a float between 0 and 1.0\")\n",
        "        else:\n",
        "            self.crop_percent = None\n",
        "        self.channels = channels\n",
        "        if seed is None:\n",
        "            self.seed = random.randint(0, 1000)\n",
        "        else:\n",
        "            self.seed = seed\n",
        "\n",
        "    def _corrupt_brightness(self, image, mask):\n",
        "        \"\"\"\n",
        "        Radnomly applies a random brightness change.\n",
        "        \"\"\"\n",
        "        cond_brightness = tf.cast(tf.random.uniform(\n",
        "            [], maxval=2, dtype=tf.int32), tf.bool)\n",
        "        image = tf.cond(cond_brightness, lambda: tf.image.random_brightness(\n",
        "            image, 0.1), lambda: tf.identity(image))\n",
        "        return image, mask\n",
        "\n",
        "\n",
        "    def _corrupt_contrast(self, image, mask):\n",
        "        \"\"\"\n",
        "        Randomly applies a random contrast change.\n",
        "        \"\"\"\n",
        "        cond_contrast = tf.cast(tf.random.uniform(\n",
        "            [], maxval=2, dtype=tf.int32), tf.bool)\n",
        "        image = tf.cond(cond_contrast, lambda: tf.image.random_contrast(\n",
        "            image, 0.1, 0.8), lambda: tf.identity(image))\n",
        "        return image, mask\n",
        "\n",
        "\n",
        "    def _corrupt_saturation(self, image, mask):\n",
        "        \"\"\"\n",
        "        Randomly applies a random saturation change.\n",
        "        \"\"\"\n",
        "        cond_saturation = tf.cast(tf.random.uniform(\n",
        "            [], maxval=2, dtype=tf.int32), tf.bool)\n",
        "        image = tf.cond(cond_saturation, lambda: tf.image.random_saturation(\n",
        "            image, 0.1, 0.8), lambda: tf.identity(image))\n",
        "        return image, mask\n",
        "\n",
        "\n",
        "    def _crop_random(self, image, mask):\n",
        "        \"\"\"\n",
        "        Randomly crops image and mask in accord.\n",
        "        \"\"\"\n",
        "        cond_crop_image = tf.cast(tf.random.uniform(\n",
        "            [], maxval=2, dtype=tf.int32, seed=self.seed), tf.bool)\n",
        "        cond_crop_mask = tf.cast(tf.random.uniform(\n",
        "            [], maxval=2, dtype=tf.int32, seed=self.seed), tf.bool)\n",
        "\n",
        "        shape = tf.cast(tf.shape(image), tf.float32)\n",
        "        h = tf.cast(shape[0] * self.crop_percent, tf.int32)\n",
        "        w = tf.cast(shape[1] * self.crop_percent, tf.int32)\n",
        "\n",
        "        image = tf.cond(cond_crop_image, lambda: tf.image.random_crop(\n",
        "            image, [h, w, self.channels[0]], seed=self.seed), lambda: tf.identity(image))\n",
        "        mask = tf.cond(cond_crop_mask, lambda: tf.image.random_crop(\n",
        "            mask, [h, w, self.channels[1]], seed=self.seed), lambda: tf.identity(mask))\n",
        "\n",
        "        return image, mask\n",
        "\n",
        "\n",
        "    def _flip_left_right(self, image, mask):\n",
        "        \"\"\"\n",
        "        Randomly flips image and mask left or right in accord.\n",
        "        \"\"\"\n",
        "        image = tf.image.random_flip_left_right(image, seed=self.seed)\n",
        "        mask = tf.image.random_flip_left_right(mask, seed=self.seed)\n",
        "\n",
        "        return image, mask\n",
        "\n",
        "\n",
        "    def _resize_data(self, image, mask):\n",
        "        \"\"\"\n",
        "        Resizes images to specified size and normalizes the image: [0...1]\n",
        "        \"\"\"\n",
        "        image = tf.image.resize(image, [self.image_size, self.image_size]) #/255.0\n",
        "        image = tf.keras.applications.mobilenet.preprocess_input(image) # For mobilnetv3 preprocesing in tf-nightly\n",
        "        mask = tf.image.resize(mask, [self.image_size, self.image_size], method='nearest')//tf.reduce_max(mask) # masks should be binary with 0 representing background\n",
        "      \n",
        "        return image, mask\n",
        "\n",
        "\n",
        "    def _parse_data(self, image_paths, mask_paths):\n",
        "        \"\"\"\n",
        "        Reads image and mask files depending on\n",
        "        specified extension.\n",
        "        \"\"\"\n",
        "        image_content = tf.io.read_file(image_paths)\n",
        "        mask_content = tf.io.read_file(mask_paths)\n",
        "\n",
        "        images = tf.image.decode_jpeg(image_content, channels=self.channels[0])\n",
        "        masks = tf.image.decode_jpeg(mask_content, channels=self.channels[1])\n",
        "\n",
        "        return images, masks\n",
        "\n",
        "    def data_batch(self, batch_size, augment, shuffle=False, one_hot_encode=False):\n",
        "        \"\"\"\n",
        "        Reads data, normalizes it, shuffles it, then batches it, returns a\n",
        "        the next element in dataset op and the dataset initializer op.\n",
        "        Inputs:\n",
        "            batch_size: Number of images/masks in each batch returned.\n",
        "            augment: Boolean, whether to augment data or not.\n",
        "            shuffle: Boolean, whether to shuffle data in buffer or not.\n",
        "            one_hot_encode: Boolean, whether to one hot encode the mask image or not.\n",
        "                            Encoding will done according to the palette specified when\n",
        "                            initializing the object.\n",
        "        Returns:\n",
        "            data: A tf dataset object.\n",
        "        \"\"\"\n",
        "\n",
        "        # Create dataset out of the 2 files:\n",
        "        data = tf.data.Dataset.from_tensor_slices((self.image_paths, self.mask_paths))\n",
        "\n",
        "        # Parse images and labels\n",
        "        data = data.map(self._parse_data, num_parallel_calls=tf.data.experimental.AUTOTUNE)\n",
        "\n",
        "        # If augmentation is to be applied\n",
        "        if augment:\n",
        "            data = data.map(self._corrupt_brightness,\n",
        "                            num_parallel_calls=tf.data.experimental.AUTOTUNE)\n",
        "\n",
        "            data = data.map(self._corrupt_contrast,\n",
        "                            num_parallel_calls=tf.data.experimental.AUTOTUNE)\n",
        "\n",
        "            data = data.map(self._corrupt_saturation,\n",
        "                            num_parallel_calls=tf.data.experimental.AUTOTUNE)\n",
        "\n",
        "            if self.crop_percent is not None:\n",
        "                data = data.map(self._crop_random, \n",
        "                                num_parallel_calls=tf.data.experimental.AUTOTUNE)\n",
        "\n",
        "            data = data.map(self._flip_left_right,\n",
        "                            num_parallel_calls=tf.data.experimental.AUTOTUNE)\n",
        "\n",
        "        # Resize to smaller dims for speed\n",
        "        data = data.map(self._resize_data, num_parallel_calls=tf.data.experimental.AUTOTUNE)\n",
        "\n",
        "        if shuffle:\n",
        "            # Shuffle, repeat, batch and prefetch\n",
        "            data = data.shuffle(1000).repeat().batch(batch_size).prefetch(tf.data.experimental.AUTOTUNE)\n",
        "        else:\n",
        "            # Batch and prefetch\n",
        "            data = data.repeat().batch(batch_size).prefetch(tf.data.experimental.AUTOTUNE)\n",
        "\n",
        "        return data"
      ],
      "execution_count": 9,
      "outputs": []
    },
    {
      "cell_type": "markdown",
      "metadata": {
        "id": "AEWQsWf-0GAl"
      },
      "source": [
        "**Note:** The keras **preprocessing layer** for mobilenetv3 scales the input image into range: **[-1.0, 1.0].**"
      ]
    },
    {
      "cell_type": "markdown",
      "metadata": {
        "id": "FocKKfBBAW00"
      },
      "source": [
        "\n",
        "Configure the **data loader, image paths and logging** options."
      ]
    },
    {
      "cell_type": "code",
      "metadata": {
        "id": "JVj3_v___hm0"
      },
      "source": [
        "import tensorflow as tf\n",
        "import os\n",
        "\n",
        "IMAGE_DIR_PATH = '/content/JPEGImages'\n",
        "MASK_DIR_PATH = '/content/SegmentationClassRaw'\n",
        "\n",
        "image_paths = [os.path.join(IMAGE_DIR_PATH, x) for x in sorted(os.listdir(IMAGE_DIR_PATH)) if x.endswith('.jpg')]\n",
        "mask_paths = [os.path.join(MASK_DIR_PATH, x) for x in sorted(os.listdir(MASK_DIR_PATH)) if x.endswith('.png')]\n",
        "\n",
        "train_image_paths, val_image_paths, train_mask_paths, val_mask_paths = train_test_split(image_paths, mask_paths, test_size = 0.2, random_state = 0)\n",
        "\n",
        "CHECKPOINT=\"/content/drive/MyDrive/mnv3seg/ckpt/mnv3seg-{epoch:02d}-{val_loss:.2f}.hdf5\"\n",
        "LOGS='./logs'\n",
        "\n",
        "num_train=len(train_image_paths)\n",
        "num_val=len(val_image_paths)\n",
        "batch_sz=64\n",
        "epochs=100\n",
        "\n",
        "\n",
        "# Initialize the dataloader object\n",
        "train_dataset = DataLoader(image_paths=train_image_paths,\n",
        "                     mask_paths=train_mask_paths,\n",
        "                     image_size=256,\n",
        "                     crop_percent=0.8,\n",
        "                     channels=[3, 1],\n",
        "                     seed=47)\n",
        "val_dataset = DataLoader(image_paths=val_image_paths,\n",
        "                     mask_paths=val_mask_paths,\n",
        "                     image_size=256,\n",
        "                     crop_percent=0.8,\n",
        "                     channels=[3, 1],\n",
        "                     seed=47)\n",
        "\n",
        "# Parse the images and masks, and return the data in batches, augmented optionally.\n",
        "train_dataset = train_dataset.data_batch(batch_size=batch_sz,\n",
        "                             augment=True, \n",
        "                             shuffle=True)\n",
        "val_dataset = val_dataset.data_batch(batch_size=batch_sz,\n",
        "                             augment=False, \n",
        "                             shuffle=True)"
      ],
      "execution_count": 10,
      "outputs": []
    },
    {
      "cell_type": "markdown",
      "metadata": {
        "id": "PUNQ_HpBBShB"
      },
      "source": [
        "**7. Training and Callbacks**\n",
        "\n",
        "Configure the callbacks for learning rate decay, logging and checkpoint."
      ]
    },
    {
      "cell_type": "code",
      "metadata": {
        "id": "DoXXz34F0SCP"
      },
      "source": [
        "# Save checkpoints\n",
        "checkpoint = ModelCheckpoint(CHECKPOINT, monitor='val_loss', verbose=1, save_weights_only=False , save_best_only=True, mode='min')\n",
        "\n",
        "# Callbacks \n",
        "reduce_lr = ReduceLROnPlateau(factor=0.5, patience=5, min_lr=0.000001, verbose=1)\n",
        "tensorboard = TensorBoard(log_dir=LOGS, histogram_freq=0,\n",
        "                          write_graph=True, write_images=True)\n",
        "\n",
        "callbacks_list = [checkpoint, tensorboard, reduce_lr]"
      ],
      "execution_count": 11,
      "outputs": []
    },
    {
      "cell_type": "markdown",
      "metadata": {
        "id": "iAZs1jYqBZI5"
      },
      "source": [
        "Perform training and validation on the model, using the dataset and save the results."
      ]
    },
    {
      "cell_type": "code",
      "metadata": {
        "id": "OaMsm8Ss0nJL"
      },
      "source": [
        "# Train the model for few epochs, with frozen encoder\n",
        "model_history = model.fit(train_dataset, epochs=epochs,\n",
        "                          steps_per_epoch=num_train//batch_sz,\n",
        "                          validation_steps=num_val//batch_sz,\n",
        "                          validation_data=val_dataset,\n",
        "                          callbacks=callbacks_list)"
      ],
      "execution_count": null,
      "outputs": []
    },
    {
      "cell_type": "markdown",
      "metadata": {
        "id": "IFckI9p4K6BC"
      },
      "source": [
        "**Note:** The encoder will not be trained during the initial training proces."
      ]
    },
    {
      "cell_type": "markdown",
      "metadata": {
        "id": "ZLjlU4yZCarS"
      },
      "source": [
        "Finally, **unfreeze** all the layers and train the model for another 20 epoochs."
      ]
    },
    {
      "cell_type": "code",
      "metadata": {
        "id": "LdJDLwvPIPus"
      },
      "source": [
        "# Unfreeze all the layers of the pretrained model\n",
        "model=mnv3_unet(finetune=False, pretrained=True, alpha=1)\n",
        "\n",
        "\n",
        "# Resume training from previous checkpoint\n",
        "model_history = model.fit(train_dataset, epochs=epochs,\n",
        "                          steps_per_epoch=num_train//batch_sz,\n",
        "                          validation_steps=num_val//batch_sz,\n",
        "                          validation_data=val_dataset,\n",
        "                          callbacks=callbacks_list)"
      ],
      "execution_count": null,
      "outputs": []
    },
    {
      "cell_type": "markdown",
      "metadata": {
        "id": "SoqznZWJF7Md"
      },
      "source": [
        "**8. Quantization Aware Training**\n",
        "\n",
        "Quantization aware training emulates inference-time quantization, creating a model that downstream tools will use to produce actually quantized models. The quantized models use lower-precision (e.g. **8-bit** instead of 32-bit float), leading to benefits during deployment.\n",
        "\n",
        "**Advantages:-**\n",
        "*   Persistence of accuracy (same)\n",
        "*   Latency benefits  (faster)\n",
        "*   Smaller model size (4x)\n",
        "\n",
        "\n",
        "\n"
      ]
    },
    {
      "cell_type": "markdown",
      "metadata": {
        "id": "MIXja8-1FVcf"
      },
      "source": [
        "Install tensorflow **model optimization** from source, using bazel."
      ]
    },
    {
      "cell_type": "code",
      "metadata": {
        "id": "hn-dDJQbFMsh"
      },
      "source": [
        "!git clone https://github.com/tensorflow/model-optimization.git\n",
        "%cd model-optimization\n",
        "!bazel build --copt=-O3 --copt=-march=native :pip_pkg\n",
        "!./bazel-bin/pip_pkg pkgdir\n",
        "!pip install --user --upgrade pkgdir/*.whl"
      ],
      "execution_count": null,
      "outputs": []
    },
    {
      "cell_type": "markdown",
      "metadata": {
        "id": "6QYWP394DJep"
      },
      "source": [
        "**Note:** Here we need to install the latest **tfmot version** from source, since the the quantization support for **Upsampling2D** operator is only available in this version."
      ]
    },
    {
      "cell_type": "markdown",
      "metadata": {
        "id": "zOzGquyDFe0Q"
      },
      "source": [
        "Load the trained **float model** checkpoint."
      ]
    },
    {
      "cell_type": "code",
      "metadata": {
        "id": "MSsjtdQzEOPg"
      },
      "source": [
        "import tensorflow_model_optimization as tfmot\n",
        "\n",
        "float_model=load_model('/content/drive/MyDrive/mnv3seg/ckpt/mnv3seg-13-0.03.hdf5') # Final float model\n",
        "\n",
        "float_model.summary()"
      ],
      "execution_count": null,
      "outputs": []
    },
    {
      "cell_type": "markdown",
      "metadata": {
        "id": "qeDUThNCGOsR"
      },
      "source": [
        "Load the **quantized model** checkpoint, if any."
      ]
    },
    {
      "cell_type": "code",
      "metadata": {
        "id": "Pc2Vz_mnql86"
      },
      "source": [
        "with tfmot.quantization.keras.quantize_scope():\n",
        "    quant_model = tf.keras.models.load_model('/content/drive/MyDrive/mnv3seg/ckpt/mnv3seg-09-0.03.hdf5') # Final quant model\n",
        "    \n",
        "quant_model.summary()"
      ],
      "execution_count": null,
      "outputs": []
    },
    {
      "cell_type": "markdown",
      "metadata": {
        "id": "lcOdg8jRL3gX"
      },
      "source": [
        "Create the **quantization aware model** from float model and **compile** it using the same loss function."
      ]
    },
    {
      "cell_type": "code",
      "metadata": {
        "id": "nw0rSvo6HLSQ"
      },
      "source": [
        "import tensorflow_model_optimization as tfmot\n",
        "\n",
        "quantize_model = tfmot.quantization.keras.quantize_model\n",
        "\n",
        "# q_aware stands for for quantization aware.\n",
        "q_aware_model = quantize_model(float_model)\n",
        "\n",
        "# `quantize_model` requires a recompile.\n",
        "q_aware_model.compile(optimizer=Adam(lr=1e-4),\n",
        "              loss=tf.keras.losses.SparseCategoricalCrossentropy(from_logits=True),\n",
        "              metrics=['accuracy'])\n",
        "\n",
        "q_aware_model.summary()"
      ],
      "execution_count": null,
      "outputs": []
    },
    {
      "cell_type": "markdown",
      "metadata": {
        "id": "CfM0JuEIKM_N"
      },
      "source": [
        "Perform **quantization aware training** on the quant aware model, using the training dataset for **10 epochs**."
      ]
    },
    {
      "cell_type": "code",
      "metadata": {
        "id": "rUErLWeD1Kkk"
      },
      "source": [
        "q_aware_model.fit(train_dataset, epochs=10,\n",
        "                          steps_per_epoch=num_train//batch_sz,\n",
        "                          validation_steps=num_val//batch_sz,\n",
        "                          validation_data=val_dataset,\n",
        "                          callbacks=callbacks_list)"
      ],
      "execution_count": null,
      "outputs": []
    },
    {
      "cell_type": "markdown",
      "metadata": {
        "id": "AwZxRWDwPDVn"
      },
      "source": [
        "**Note:** The final quantized tflite model would still have **float** input and outputs for convenience. But, unfortunately we can't run them on hardware accelerators like hexagon DSP or coral, since they are not yet fully quantized i.e **full integer quantized**. The final quantized models have **quantize and dequantize** layers which are not yet supported by hardware accelartors/API's."
      ]
    },
    {
      "cell_type": "markdown",
      "metadata": {
        "id": "1zBGS1aRKmwP"
      },
      "source": [
        "**9. Tflite Conversion**"
      ]
    },
    {
      "cell_type": "markdown",
      "metadata": {
        "id": "9DVSk6kJNiMd"
      },
      "source": [
        "Convert the **float mode**l to tflite format.\n",
        "\n"
      ]
    },
    {
      "cell_type": "code",
      "metadata": {
        "id": "zl2M07mkK3q4"
      },
      "source": [
        "# Fix the model input batch size to 1\n",
        "input_name = float_model.input_names[0]\n",
        "index = float_model.input_names.index(input_name)\n",
        "float_model.inputs[index].set_shape([1, 256, 256, 3])\n",
        "\n",
        "\n",
        "converter = tf.lite.TFLiteConverter.from_keras_model(float_model)\n",
        "tflite_model = converter.convert()\n",
        "open(\"mnv3_seg_float.tflite\", \"wb\").write(tflite_model)"
      ],
      "execution_count": null,
      "outputs": []
    },
    {
      "cell_type": "markdown",
      "metadata": {
        "id": "2F5TJckdNm69"
      },
      "source": [
        "Convert the **quantized model** to tflite format."
      ]
    },
    {
      "cell_type": "code",
      "metadata": {
        "id": "1jioYT6IMAPq"
      },
      "source": [
        "# Fix the model input batch size to 1\n",
        "input_name = quant_model.input_names[0]\n",
        "index = quant_model.input_names.index(input_name)\n",
        "quant_model.inputs[index].set_shape([1, 256, 256, 3])\n",
        "\n",
        "# Convert the model to tflite format\n",
        "converter = tf.lite.TFLiteConverter.from_keras_model(quant_model)\n",
        "converter.optimizations = [tf.lite.Optimize.DEFAULT]\n",
        "quantized_tflite_model = converter.convert()\n",
        "open(\"mnv3_seg_quant.tflite\", \"wb\").write(quantized_tflite_model)"
      ],
      "execution_count": null,
      "outputs": []
    },
    {
      "cell_type": "markdown",
      "metadata": {
        "id": "9X54gpy4KLMj"
      },
      "source": [
        "**Note**: In the new converter, if you don't want dynamic batch in the final model, then set the model before converting to have a **static shape**. Otherwise it will create additional '**Shape, StridedSlice and Pack**' layers, which are **not supported** by hardware accelerators like GPU or DSP."
      ]
    },
    {
      "cell_type": "markdown",
      "metadata": {
        "id": "udb9dVKAS5UM"
      },
      "source": [
        "**10. Post Training Quantization**"
      ]
    },
    {
      "cell_type": "markdown",
      "metadata": {
        "id": "CIHH7lCAVM6T"
      },
      "source": [
        "We can also reduce the model size and **latency** by performing post training quantization. A fully quantized model with **UINT8 inputs and outputs** can take advantage of **accelerators** like Coral TPU, Hexagon DSP etc. "
      ]
    },
    {
      "cell_type": "code",
      "metadata": {
        "id": "fb8ZbVFJSsdQ"
      },
      "source": [
        "# Create a representative dataset from training set\n",
        "representative_images, _ = next(iter(train_dataset))\n",
        "\n",
        "def representative_dataset_gen():\n",
        "    for image in representative_images:\n",
        "        yield [tf.expand_dims(image, 0)]\n",
        "\n",
        "# Configure the converter with UINT8 inputs and outputs\n",
        "converter = tf.lite.TFLiteConverter.from_keras_model(float_model)\n",
        "converter.optimizations = [tf.lite.Optimize.DEFAULT]\n",
        "converter.representative_dataset = representative_dataset_gen\n",
        "converter.target_spec.supported_ops = [tf.lite.OpsSet.TFLITE_BUILTINS_INT8]\n",
        "converter.inference_input_type = tf.uint8\n",
        "converter.inference_output_type = tf.uint8\n",
        "\n",
        "# Convert and save the tflite model\n",
        "post_quantized_tflite_model = converter.convert()\n",
        "open(\"mnv3_post_quant.tflite\", \"wb\").write(post_quantized_tflite_model)"
      ],
      "execution_count": null,
      "outputs": []
    },
    {
      "cell_type": "markdown",
      "metadata": {
        "id": "1PVJWOSrVzia"
      },
      "source": [
        "**Note:** Compared to a QAT model, a PTQ model may have lower accuracy"
      ]
    },
    {
      "cell_type": "markdown",
      "metadata": {
        "id": "rIP7ZCRAAvGw"
      },
      "source": [
        "**11. Testing**"
      ]
    },
    {
      "cell_type": "markdown",
      "metadata": {
        "id": "0YRpGcLjPnrI"
      },
      "source": [
        "Run the **tflite models** on test images, using tflite **interpreter** and plot the results using matplotlib."
      ]
    },
    {
      "cell_type": "code",
      "metadata": {
        "id": "htbDpzoAAxKo"
      },
      "source": [
        "def run_tflite_model(tflite_file, test_image):\n",
        "\n",
        "  # Initialize the interpreter\n",
        "  interpreter = tf.lite.Interpreter(model_path=str(tflite_file))\n",
        "  interpreter.allocate_tensors()\n",
        "\n",
        "  # Get input and output details\n",
        "  input_details = interpreter.get_input_details()[0]\n",
        "  output_details = interpreter.get_output_details()[0]\n",
        "\n",
        "  # Preprocess the input image\n",
        "  test_image = (test_image - 127.5) / 127.5\n",
        "  if input_details['dtype'] == np.uint8:\n",
        "      input_scale, input_zero_point = input_details[\"quantization\"]\n",
        "      test_image = test_image / input_scale + input_zero_point\n",
        "  test_image = np.expand_dims(test_image, axis=0).astype(input_details[\"dtype\"])\n",
        "\n",
        "  # Run the interpreter and get the output\n",
        "  interpreter.set_tensor(input_details[\"index\"], test_image)\n",
        "  interpreter.invoke()\n",
        "  output = interpreter.get_tensor(output_details[\"index\"])[0]\n",
        "\n",
        "  # Compute mask from segmentaion output\n",
        "  mask = np.argmax(output, axis=-1)\n",
        "\n",
        "  return mask"
      ],
      "execution_count": 45,
      "outputs": []
    },
    {
      "cell_type": "markdown",
      "metadata": {
        "id": "8TgdnnjkQUAt"
      },
      "source": [
        "Run the **float model** on test image and plot the results."
      ]
    },
    {
      "cell_type": "code",
      "metadata": {
        "colab": {
          "base_uri": "https://localhost:8080/",
          "height": 281
        },
        "id": "AtmJw55UGvS-",
        "outputId": "b46bb42d-9075-4eee-f187-e7eb40ac2725"
      },
      "source": [
        "image=np.array(Image.open('/content/port_0basketball-player-game-sport-159611.jpeg'))\n",
        "mask=run_tflite_model(tflite_file='/content/model-optimization/mnv3_seg_float.tflite',test_image=image)\n",
        "crop_float=input_image*mask[...,np.newaxis]\n",
        "plt.imshow(crop_float)\n",
        "plt.title('Float Model Output')\n",
        "plt.show()"
      ],
      "execution_count": 57,
      "outputs": [
        {
          "output_type": "display_data",
          "data": {
            "image/png": "[encoded data removed]",
            "text/plain": [
              "<Figure size 432x288 with 1 Axes>"
            ]
          },
          "metadata": {
            "tags": [],
            "needs_background": "light"
          }
        }
      ]
    },
    {
      "cell_type": "markdown",
      "metadata": {
        "id": "8qOChXv3QmVD"
      },
      "source": [
        "Run the **quantization aware trained model** on test image and plot the results."
      ]
    },
    {
      "cell_type": "code",
      "metadata": {
        "colab": {
          "base_uri": "https://localhost:8080/",
          "height": 281
        },
        "id": "GqmE3aBfJyrU",
        "outputId": "428086dc-8a66-428e-9c6f-87f35b351518"
      },
      "source": [
        "image=np.array(Image.open('/content/port_0basketball-player-game-sport-159611.jpeg'))\n",
        "mask=run_tflite_model(tflite_file='/content/model-optimization/mnv3_seg_quant.tflite',test_image=image)\n",
        "crop_qat=input_image*mask[...,np.newaxis]\n",
        "plt.imshow(crop_qat)\n",
        "plt.title('QAT Model Output')\n",
        "plt.show()"
      ],
      "execution_count": 58,
      "outputs": [
        {
          "output_type": "display_data",
          "data": {
            "image/png": "[encoded data removed]",
            "text/plain": [
              "<Figure size 432x288 with 1 Axes>"
            ]
          },
          "metadata": {
            "tags": [],
            "needs_background": "light"
          }
        }
      ]
    },
    {
      "cell_type": "markdown",
      "metadata": {
        "id": "G1olHeLcQ38m"
      },
      "source": [
        "Run the **post training quantized model** on test image and plot the results."
      ]
    },
    {
      "cell_type": "code",
      "metadata": {
        "colab": {
          "base_uri": "https://localhost:8080/",
          "height": 281
        },
        "id": "hlNOrMGMLYjW",
        "outputId": "a30a01c0-6ae7-46f9-af7f-dc17e0857ad6"
      },
      "source": [
        "image=np.array(Image.open('/content/port_0basketball-player-game-sport-159611.jpeg'))\n",
        "mask=run_tflite_model(tflite_file='/content/model-optimization/mnv3_post_quant.tflite',test_image=image)\n",
        "crop_ptq=input_image*mask[...,np.newaxis]\n",
        "plt.imshow(crop_ptq)\n",
        "plt.title('PTQ Model Output')\n",
        "plt.show()"
      ],
      "execution_count": 59,
      "outputs": [
        {
          "output_type": "display_data",
          "data": {
            "image/png": "[encoded data removed]",
            "text/plain": [
              "<Figure size 432x288 with 1 Axes>"
            ]
          },
          "metadata": {
            "tags": [],
            "needs_background": "light"
          }
        }
      ]
    },
    {
      "cell_type": "markdown",
      "metadata": {
        "id": "z6z8twJGmc58"
      },
      "source": [
        "**References:-**\n",
        "\n",
        "\n",
        "\n",
        "1.   https://www.tensorflow.org/install/source#setup_for_linux_and_macos\n",
        "2.   https://www.tensorflow.org/model_optimization/guide/install\n",
        "3. https://github.com/tensorflow/tensorflow/blob/master/tensorflow/python/keras/applications/mobilenet_v3.py\n",
        "4. https://www.tensorflow.org/model_optimization/guide/quantization/training_example\n",
        "5. https://www.tensorflow.org/lite/performance/post_training_integer_quant\n",
        "6. https://github.com/tensorflow/tensorflow/issues/42082\n",
        "7. https://github.com/HasnainRaz/SemSegPipeline\n",
        "\n"
      ]
    }
  ]
}